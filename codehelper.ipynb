{
 "cells": [
  {
   "cell_type": "markdown",
   "id": "2371172a",
   "metadata": {},
   "source": [
    "![模型结构](image.png)"
   ]
  },
  {
   "cell_type": "code",
   "execution_count": null,
   "id": "535e41f7",
   "metadata": {},
   "outputs": [
    {
     "name": "stderr",
     "output_type": "stream",
     "text": [
      "/opt/anaconda3/lib/python3.12/site-packages/langchain_openai/chat_models/base.py:1857: UserWarning: Cannot use method='json_schema' with model gpt-3.5-turbo since it doesn't support OpenAI's Structured Output API. You can see supported models here: https://platform.openai.com/docs/guides/structured-outputs#supported-models. To fix this warning, set `method='function_calling'. Overriding to method='function_calling'.\n",
      "  warnings.warn(\n"
     ]
    }
   ],
   "source": [
    "# code的生成格式\n",
    "from pydantic import BaseModel, Field\n",
    "from langchain_core.prompts import ChatPromptTemplate\n",
    "from langchain_community.chat_models import ChatZhipuAI\n",
    "from langchain_openai import ChatOpenAI\n",
    "from dotenv import load_dotenv\n",
    "import os\n",
    "\n",
    "load_dotenv()\n",
    "\n",
    "# api_key = os.getenv(\"ZHIPU_API_KEY\")\n",
    "api_key = os.getenv(\"OPENAI_API_KEY\")\n",
    "\n",
    "class CodeSchema(BaseModel):\n",
    "    prefix: str = Field(description=\"这些是代码的解释，需要用中文回答\")\n",
    "    imports: str = Field(description=\"这些是代码需要导入的库\")\n",
    "    code: str = Field(description=\"这些是代码本身的内容，不包含解释和导入的库\")\n",
    "\n",
    "code_gen_prompt = ChatPromptTemplate.from_messages(\n",
    "    [\n",
    "        (\n",
    "            \"system\",\n",
    "            \"\"\"You are a coding assistant with expertise in Python. \\n \n",
    "    Here is a full set of documentation:  \\n ------- \\n  {context} \\n ------- \\n Answer the user \n",
    "    question based on the above provided documentation(if it is not provided, you should generate the code based on the user question). \\n\n",
    "    Ensure any code you provide can be executed \\n \n",
    "    with all required imports and variables defined. Structure your answer with a description of the code solution. \\n\n",
    "    Then list the imports. And finally list the functioning code block. Here is the user question:\"\"\",\n",
    "        ),\n",
    "        (\"placeholder\", \"{messages}\"),\n",
    "    ]\n",
    "    # placehold 后面的messages是数组\n",
    ")\n",
    "\n",
    "llm = ChatOpenAI(model=\"gpt-3.5-turbo\", api_key=api_key)\n",
    "# llm = ChatZhipuAI(api_key=api_key, model=\"glm-4-flash\")\n",
    "\n",
    "code_gen_chain = code_gen_prompt | llm.with_structured_output(CodeSchema, include_raw=True)\n",
    "# 这里如果加上 include_raw=True 会返回原始的响应，包括所有响应头和响应体\n",
    "\n",
    "res = code_gen_chain.invoke({\"context\":'', \"messages\": [(\"user\", \"请生成一个简单的Python代码, 用于计算两个数的和\")]})\n",
    "\n",
    "    "
   ]
  },
  {
   "cell_type": "code",
   "execution_count": 85,
   "id": "96ca0444",
   "metadata": {},
   "outputs": [
    {
     "data": {
      "text/plain": [
       "'def add_numbers(num1, num2):\\n    return num1 + num2'"
      ]
     },
     "execution_count": 85,
     "metadata": {},
     "output_type": "execute_result"
    }
   ],
   "source": [
    "res['parsed'].code"
   ]
  },
  {
   "cell_type": "markdown",
   "id": "1f3f4c31",
   "metadata": {
    "vscode": {
     "languageId": "raw"
    }
   },
   "source": [
    "**考虑到llm可能并没有完成我们的要求 完成格式化输出 我们可以定义一个fall_back chain**"
   ]
  },
  {
   "cell_type": "code",
   "execution_count": null,
   "id": "f302bab6",
   "metadata": {},
   "outputs": [
    {
     "name": "stderr",
     "output_type": "stream",
     "text": [
      "/opt/anaconda3/lib/python3.12/site-packages/langchain_openai/chat_models/base.py:1857: UserWarning: Cannot use method='json_schema' with model gpt-3.5-turbo since it doesn't support OpenAI's Structured Output API. You can see supported models here: https://platform.openai.com/docs/guides/structured-outputs#supported-models. To fix this warning, set `method='function_calling'. Overriding to method='function_calling'.\n",
      "  warnings.warn(\n"
     ]
    }
   ],
   "source": [
    "# 首先从上面的res中看看'parsed'和'parsing_error'的值\n",
    "# res -> {'parsed': None, 'parsing_error': None, 'raw': None}\n",
    "def check_output(output):\n",
    "    if output['parsing_error'] is not None:\n",
    "        print(\"Parsing error\")\n",
    "        raw_output = output['raw']\n",
    "        error = output['parsing_error']\n",
    "        raise ValueError(f\"解析时出现错误,确保你调用了CodeSchema工具。Parsing error: {error}\\nRaw output: {raw_output}\")\n",
    "    elif output['parsed'] is None:\n",
    "        print(\"Failed to invoke the tool\")\n",
    "        raise ValueError(f\"调用工具出现错误,你没有调用CodeSchema工具,确保你调用了CodeSchema工具来保证格式化输出\")\n",
    "    return output\n",
    "\n",
    "code_chain_raw = code_gen_prompt | llm.with_structured_output(CodeSchema, include_raw=True) | check_output"
   ]
  },
  {
   "cell_type": "code",
   "execution_count": 87,
   "id": "a1d25b57",
   "metadata": {},
   "outputs": [],
   "source": [
    "res = code_chain_raw.invoke({\"context\":'', \"messages\": [(\"user\", \"请生成一个简单的Python代码，用于计算两个数的和\")]})"
   ]
  },
  {
   "cell_type": "code",
   "execution_count": 88,
   "id": "148ddd24",
   "metadata": {},
   "outputs": [
    {
     "data": {
      "text/plain": [
       "'def sum_two_numbers(a, b):\\n    return a + b\\n\\nresult = sum_two_numbers(5, 3)\\nprint(result)'"
      ]
     },
     "execution_count": 88,
     "metadata": {},
     "output_type": "execute_result"
    }
   ],
   "source": [
    "res['parsed'].code"
   ]
  },
  {
   "cell_type": "markdown",
   "id": "4a68f153",
   "metadata": {},
   "source": [
    "**这个 fallback 会在原始链（code_chain_claude_raw）执行失败时被调用，而失败时 LangChain 会自动将错误和输入打包成一个 inputs 传进去。**  \n",
    "`inputs = {`  \n",
    "    `\"context\": ...,        # 上一个链条的 context 变量`  \n",
    "    `\"messages\": [...],     # 当前对话历史`  \n",
    "    `\"error\": Exception(),  # 上一个步骤的错误（比如 parsing_error）`  \n",
    "`}`"
   ]
  },
  {
   "cell_type": "code",
   "execution_count": 89,
   "id": "64818581",
   "metadata": {},
   "outputs": [
    {
     "data": {
      "text/plain": [
       "CodeSchema(prefix='calculate_sum', imports=' ', code='def calculate_sum(num1, num2):\\n    return num1 + num2\\n\\nresult = calculate_sum(5, 3)\\nprint(result)')"
      ]
     },
     "execution_count": 89,
     "metadata": {},
     "output_type": "execute_result"
    }
   ],
   "source": [
    "def insert_error(inputs):\n",
    "    error = inputs['error']\n",
    "    messages = inputs['messages']\n",
    "    messages += [(\"assistant\", f\"你必须修复下面这个错误Error: {error}， 你必须调用工具\")]\n",
    "    # 注意这里使用assistant 让ai知道错误，并调用工具\n",
    "    return {\"context\": inputs['context'],\n",
    "        \"messages\": messages}\n",
    "\n",
    "fall_back_chain = insert_error | code_chain_raw\n",
    "retry_n = 3\n",
    "code_gen = code_chain_raw.with_fallbacks(fallbacks=[fall_back_chain]*retry_n, exception_key=\"error\")\n",
    "# 定义inputs里面'error'的key\n",
    "# code_gen.invoke({\"context\":'', \"messages\": [(\"user\", \"请生成一个简单的Python代码，用于计算两个数的和\")]})\n",
    "\n",
    "# 提取原始数据中的格式化输出\n",
    "def prased_output(output):\n",
    "    return output['parsed']\n",
    "\n",
    "chain_with_retry = code_gen | prased_output\n",
    "chain_with_retry.invoke({\"context\":'', \"messages\": [(\"user\", \"请生成一个简单的Python代码，用于计算两个数的和\")]})"
   ]
  },
  {
   "cell_type": "markdown",
   "id": "aa21ebdf",
   "metadata": {},
   "source": [
    "**实现Langgraph**"
   ]
  },
  {
   "cell_type": "code",
   "execution_count": 90,
   "id": "c10dedd3",
   "metadata": {},
   "outputs": [],
   "source": [
    "# 首先定义state状态\n",
    "from typing import TypedDict, List, Optional, Tuple\n",
    "\n",
    "class State(TypedDict):\n",
    "    messages: List[Tuple[str, str]]\n",
    "    error: str\n",
    "    generation: str\n",
    "    iterations: int\n"
   ]
  },
  {
   "cell_type": "code",
   "execution_count": 92,
   "id": "6189bfe3",
   "metadata": {},
   "outputs": [],
   "source": [
    "# 生成代码的node\n",
    "def generate(state:State)->State:\n",
    "    messages = state['messages']\n",
    "    error = state['error']\n",
    "    iterations = state['iterations']\n",
    "    if error == 'yes':\n",
    "        messages += [(\"user\", f\"重试一次， 你必须调用工具，并且生成格式话的代码\")]\n",
    "        \n",
    "        code_solution = chain_with_retry.invoke({\"context\":'', \"messages\": messages})\n",
    "        messages += [\n",
    "        (\n",
    "            \"assistant\",\n",
    "            f\"{code_solution.prefix} \\n Imports: {code_solution.imports} \\n Code: {code_solution.code}\",\n",
    "        )\n",
    "        ]\n",
    "    else:\n",
    "        code_solution = chain_with_retry.invoke({\"context\":'', \"messages\": messages})\n",
    "        messages += [\n",
    "        (\n",
    "            \"assistant\",\n",
    "            f\"{code_solution.prefix} \\n Imports: {code_solution.imports} \\n Code: {code_solution.code}\",\n",
    "        )\n",
    "        ]\n",
    "    iterations = iterations + 1\n",
    "    return {\"generation\": code_solution, \"messages\": messages, \"iterations\": iterations}\n"
   ]
  },
  {
   "cell_type": "code",
   "execution_count": 93,
   "id": "1b80d0f8",
   "metadata": {},
   "outputs": [],
   "source": [
    "def code_check(state:State)->State:\n",
    "    messages = state['messages']\n",
    "    error = state['error']\n",
    "    iterations = state['iterations']\n",
    "    code_solution = state['generation']\n",
    "    imports = code_solution.imports\n",
    "    code = code_solution.code\n",
    "    # Check imports\n",
    "    try:\n",
    "        exec(imports)\n",
    "    except Exception as e:\n",
    "        print(\"---CODE IMPORT CHECK: FAILED---\")\n",
    "        error_message = [(\"user\", f\"Your solution failed the import test: {e}\")]\n",
    "        messages += error_message\n",
    "        return {\n",
    "            \"generation\": code_solution,\n",
    "            \"messages\": messages,\n",
    "            \"iterations\": iterations,\n",
    "            \"error\": \"yes\",\n",
    "        }\n",
    "\n",
    "    # Check execution\n",
    "    try:\n",
    "        exec(imports + \"\\n\" + code)\n",
    "    except Exception as e:\n",
    "        print(\"---CODE BLOCK CHECK: FAILED---\")\n",
    "        error_message = [(\"user\", f\"Your solution failed the code execution test: {e}\")]\n",
    "        messages += error_message\n",
    "        return {\n",
    "            \"generation\": code_solution,\n",
    "            \"messages\": messages,\n",
    "            \"iterations\": iterations,\n",
    "            \"error\": \"yes\",\n",
    "        }\n",
    "\n",
    "    # No errors\n",
    "    print(\"---CODE CHECK: SUCCESS---\")\n",
    "    return {\n",
    "        \"generation\": code_solution,\n",
    "        \"messages\": messages,\n",
    "        \"iterations\": iterations,\n",
    "        \"error\": \"no\",\n",
    "    }\n"
   ]
  },
  {
   "cell_type": "code",
   "execution_count": 94,
   "id": "18308128",
   "metadata": {},
   "outputs": [],
   "source": [
    "def reflect(state:State)->State:\n",
    "    # 对上面填入的错误进行反思\n",
    "    # State\n",
    "    messages = state[\"messages\"]\n",
    "    iterations = state[\"iterations\"]\n",
    "    code_solution = state[\"generation\"]\n",
    "\n",
    "    # Prompt reflection\n",
    "\n",
    "    # Add reflection\n",
    "    reflections = code_gen_chain.invoke(\n",
    "        {\"context\": '', \"messages\": messages}\n",
    "    )\n",
    "    messages += [(\"assistant\", f\"这是出现的error的反思: {reflections}\")]\n",
    "    return {\"generation\": code_solution, \"messages\": messages, \"iterations\": iterations}"
   ]
  },
  {
   "cell_type": "code",
   "execution_count": 95,
   "id": "5fe570e3",
   "metadata": {},
   "outputs": [],
   "source": [
    "max_iterations = 3\n",
    "flag = \"reflect\"\n",
    "\n",
    "def decide_to_finish(state: State):\n",
    "    error = state[\"error\"]\n",
    "    iterations = state[\"iterations\"]\n",
    "\n",
    "    if error == \"no\" or iterations == max_iterations:\n",
    "        print(\"---DECISION: FINISH---\")\n",
    "        return \"end\"\n",
    "    else:\n",
    "        print(\"---DECISION: RE-TRY SOLUTION---\")\n",
    "        if flag == \"reflect\":\n",
    "            return \"reflect\"\n",
    "        else:\n",
    "            return \"generate\""
   ]
  },
  {
   "cell_type": "code",
   "execution_count": 96,
   "id": "8a501632",
   "metadata": {},
   "outputs": [],
   "source": [
    "# 构建工作图\n",
    "from langgraph.graph import StateGraph, START, END\n",
    "\n",
    "workflow = StateGraph(State)\n",
    "\n",
    "workflow.add_node(\"generate\", generate)\n",
    "workflow.add_node(\"code_check\", code_check)\n",
    "workflow.add_node(\"reflect\", reflect)\n",
    "\n",
    "workflow.add_edge(START, \"generate\")\n",
    "workflow.add_edge(\"generate\", \"code_check\")\n",
    "workflow.add_conditional_edges(\n",
    "    \"code_check\",\n",
    "    decide_to_finish,\n",
    "    {\n",
    "        \"end\": END,\n",
    "        \"reflect\": \"reflect\",\n",
    "        \"generate\": \"generate\",\n",
    "    },\n",
    ")\n",
    "workflow.add_edge(\"reflect\", \"generate\")\n",
    "app = workflow.compile()"
   ]
  },
  {
   "cell_type": "code",
   "execution_count": 97,
   "id": "448ce56a",
   "metadata": {},
   "outputs": [
    {
     "name": "stdout",
     "output_type": "stream",
     "text": [
      "---CODE CHECK: SUCCESS---\n",
      "---DECISION: FINISH---\n"
     ]
    }
   ],
   "source": [
    "question = \"如何解决一个N皇后问题\"\n",
    "solution = app.invoke({\"messages\": [(\"user\", question)], \"iterations\": 0, \"error\": \"\", \"generation\": \"\"})"
   ]
  },
  {
   "cell_type": "code",
   "execution_count": 99,
   "id": "4817ab03",
   "metadata": {},
   "outputs": [
    {
     "data": {
      "text/plain": [
       "\"def solve_n_queens(n: int) -> List[List[str]]:\\n    def is_safe(board, row, col):\\n        for i in range(row):\\n            if board[i] == col or board[i] - i == col - row or board[i] + i == col + row:\\n                return False\\n        return True\\n\\n    def backtrack(board, row):\\n        if row == n:\\n            result.append([''.join(['Q' if j == col else '.' for j in board]) for col in board])\\n            return\\n        for col in range(n):\\n            if is_safe(board, row, col):\\n                board[row] = col\\n                backtrack(board, row + 1)\\n                board[row] = 0\\n\\n    result = []\\n    board = [0] * n\\n    backtrack(board, 0)\\n    return result\""
      ]
     },
     "execution_count": 99,
     "metadata": {},
     "output_type": "execute_result"
    }
   ],
   "source": [
    "solution['generation'].code"
   ]
  }
 ],
 "metadata": {
  "kernelspec": {
   "display_name": "base",
   "language": "python",
   "name": "python3"
  },
  "language_info": {
   "codemirror_mode": {
    "name": "ipython",
    "version": 3
   },
   "file_extension": ".py",
   "mimetype": "text/x-python",
   "name": "python",
   "nbconvert_exporter": "python",
   "pygments_lexer": "ipython3",
   "version": "3.12.7"
  }
 },
 "nbformat": 4,
 "nbformat_minor": 5
}
