{
 "cells": [
  {
   "cell_type": "code",
   "execution_count": 32,
   "id": "18874eb2",
   "metadata": {},
   "outputs": [],
   "source": [
    "from langchain_openai import ChatOpenAI\n",
    "from langchain_core.prompts import ChatPromptTemplate\n",
    "from langchain_core.output_parsers import StrOutputParser\n",
    "from langchain_core.messages import HumanMessage, AIMessage, SystemMessage, ToolMessage\n",
    "from pydantic import BaseModel\n",
    "from typing import List, Annotated, TypedDict, Any\n",
    "from langgraph.checkpoint.memory import MemorySaver\n",
    "from langgraph.graph import StateGraph, START, END\n",
    "from langgraph.graph.message import add_messages\n",
    "from langgraph.checkpoint.memory import MemorySaver\n",
    "\n",
    "# 它告诉 LangGraph 在每次 node 执行返回新的 messages 时\n",
    "# 要自动把这些新消息 追加到原有的 state[\"messages\"] 列表中 而不是替换掉它\n",
    "from dotenv import load_dotenv\n",
    "import os\n",
    "load_dotenv()\n",
    "\n",
    "api_key = os.getenv(\"OPENAI_API_KEY\")\n",
    "\n",
    "template = \"\"\"Your job is to get information from a user about what type of prompt template they want to create.\n",
    "\n",
    "You should get the following information from them:\n",
    "\n",
    "- What the objective of the prompt is\n",
    "- What variables will be passed into the prompt template\n",
    "- Any constraints for what the output should NOT do\n",
    "- Any requirements that the output MUST adhere to\n",
    "\n",
    "If you are not able to discern this info, ask them to clarify! Do not attempt to wildly guess.\n",
    "\n",
    "After you are able to discern all the information, call the relevant tool.\"\"\""
   ]
  },
  {
   "cell_type": "markdown",
   "id": "e28b5a07",
   "metadata": {},
   "source": [
    "**主要用于多轮对话生成更加合适的prompt**"
   ]
  },
  {
   "cell_type": "code",
   "execution_count": 19,
   "id": "1ab2fac0",
   "metadata": {},
   "outputs": [],
   "source": [
    "class PromptInstructions(BaseModel):\n",
    "    \"\"\"首先定义一个prompt的结构 然后根据这个结构来生成prompt\"\"\"\n",
    "\n",
    "    objective: str\n",
    "    variables: List[str]\n",
    "    constraints: List[str]\n",
    "    requirements: List[str]\n",
    "\n",
    "# 定义state\n",
    "class State(TypedDict):\n",
    "    messages: Annotated[list, add_messages]\n",
    "\n",
    "\n",
    "llm = ChatOpenAI(model=\"gpt-3.5-turbo\", temperature=0)\n",
    "\n",
    "llm_with_tool = llm.bind_tools([PromptInstructions])\n",
    "\n",
    "\n",
    "# 每一轮对话中 都添加系统消息 防止模型忘记规则\n",
    "def get_system_messages(msgs):\n",
    "    return [SystemMessage(content=template)] + msgs\n",
    "\n",
    "# info node\n",
    "def info(state):\n",
    "    msg = get_system_messages(state[\"messages\"])\n",
    "    response = llm_with_tool.invoke(msg)\n",
    "    # 这里的response是AImseeage 内部包含tool_calls 和 content\n",
    "    return {\"messages\": [response]}"
   ]
  },
  {
   "cell_type": "markdown",
   "id": "bac5420c",
   "metadata": {},
   "source": [
    "**显然，一轮简单的对话并不能满足llm对于构建promt的要求，与之对应的，llm并没有调用tool**"
   ]
  },
  {
   "cell_type": "code",
   "execution_count": 9,
   "id": "a360690e",
   "metadata": {},
   "outputs": [
    {
     "data": {
      "text/plain": [
       "[]"
      ]
     },
     "execution_count": 9,
     "metadata": {},
     "output_type": "execute_result"
    }
   ],
   "source": [
    "state = {'messages': [HumanMessage(content='把我喜欢小八翻译成法语')]}\n",
    "res = info(state)\n",
    "res[\"messages\"][0].tool_calls"
   ]
  },
  {
   "cell_type": "code",
   "execution_count": 39,
   "id": "87f1aa28",
   "metadata": {},
   "outputs": [],
   "source": [
    "# New system prompt\n",
    "prompt_system = \"\"\"Based on the following requirements, write a good prompt template:\n",
    "\n",
    "{reqs}\"\"\"\n",
    "\n",
    "def get_prompt_msgs(msgs):\n",
    "    # 收集对prompt有用的信息\n",
    "    tool_calls = None\n",
    "    other_msgs = []\n",
    "    for msg in msgs:\n",
    "        if isinstance(msg, AIMessage) and msg.tool_calls:\n",
    "            tool_calls = msg.tool_calls[0]['args']\n",
    "        elif isinstance(msg, ToolMessage):\n",
    "            continue\n",
    "        # 收集在调用工具之后 用户输入的消息（可能）\n",
    "        elif isinstance(msg, HumanMessage) and tool_calls:\n",
    "            other_msgs.append(msg)\n",
    "    return[SystemMessage(content=prompt_system.format(reqs=tool_calls))] + other_msgs\n",
    "\n",
    "def prompt(state):\n",
    "    msgs = get_prompt_msgs(state[\"messages\"])\n",
    "    response = llm.invoke(msgs)\n",
    "    return {\"messages\": [response]}\n",
    "        "
   ]
  },
  {
   "cell_type": "code",
   "execution_count": null,
   "id": "c111f534",
   "metadata": {},
   "outputs": [],
   "source": [
    "def get_state(state):\n",
    "    msg = state['messages']\n",
    "    if isinstance(msg[-1], AIMessage) and msg[-1].tool_calls:\n",
    "        return \"add_tool_message\"\n",
    "    # 安全机制?\n",
    "    elif not isinstance(msg[-1], HumanMessage):\n",
    "        return END\n",
    "    else:\n",
    "        return \"info\"\n",
    "    # elif isinstance(msg[-1], HumanMessage):\n",
    "    #     return \"info\"  # 用户输入了新消息，继续收集信息\n",
    "    # else:\n",
    "    #     return END  # 其他情况才结束（比如已经生成了最终的prompt）\n",
    "    \n",
    "def add_tool_message(state):\n",
    "    return {\n",
    "        \"messages\": [\n",
    "            ToolMessage(\n",
    "                content=\"Prompt generated!\",\n",
    "                tool_call_id=state[\"messages\"][-1].tool_calls[0][\"id\"],\n",
    "            )\n",
    "        ]\n",
    "    }"
   ]
  },
  {
   "cell_type": "code",
   "execution_count": 44,
   "id": "23eb773c",
   "metadata": {},
   "outputs": [
    {
     "data": {
      "image/png": "[encoded data removed]",
      "text/plain": [
       "<langgraph.graph.state.CompiledStateGraph object at 0x1417170e0>"
      ]
     },
     "execution_count": 44,
     "metadata": {},
     "output_type": "execute_result"
    }
   ],
   "source": [
    "# 构造流程图\n",
    "memeory = MemorySaver()\n",
    "workflow = StateGraph(State)\n",
    "workflow.add_node(\"info\", info)\n",
    "workflow.add_node(\"prompt\", prompt)\n",
    "workflow.add_node(\"get_state\", get_state)\n",
    "workflow.add_node(\"add_tool_message\", add_tool_message)\n",
    "\n",
    "workflow.add_edge(START, \"info\")\n",
    "workflow.add_conditional_edges(\"info\", get_state, ['info', 'add_tool_message', END])\n",
    "workflow.add_edge(\"add_tool_message\", 'prompt')\n",
    "workflow.add_edge('prompt', END)\n",
    "\n",
    "app = workflow.compile(checkpointer=memeory)\n",
    "app"
   ]
  },
  {
   "cell_type": "code",
   "execution_count": 45,
   "id": "14c8eb63",
   "metadata": {},
   "outputs": [
    {
     "name": "stdout",
     "output_type": "stream",
     "text": [
      "User (q/Q to quit): 生成一个关于兰州大学的prompt\n",
      "==================================\u001b[1m Ai Message \u001b[0m==================================\n",
      "\n",
      "请告诉我关于这个prompt的目标是什么？要传递哪些变量？有哪些约束条件？以及输出必须遵守的要求是什么？\n",
      "User (q/Q to quit): q\n",
      "AI: Byebye\n"
     ]
    }
   ],
   "source": [
    "import uuid\n",
    "\n",
    "cached_human_responses = [\"hi!\", \"rag prompt\", \"1 rag, 2 none, 3 no, 4 no\", \"red\", \"q\"]\n",
    "cached_response_index = 0\n",
    "config = {\"configurable\": {\"thread_id\": str(uuid.uuid4())}}\n",
    "while True:\n",
    "    try:\n",
    "        user = input(\"User (q/Q to quit): \")\n",
    "    except:\n",
    "        user = cached_human_responses[cached_response_index]\n",
    "        cached_response_index += 1\n",
    "    print(f\"User (q/Q to quit): {user}\")\n",
    "    if user in {\"q\", \"Q\"}:\n",
    "        print(\"AI: Byebye\")\n",
    "        break\n",
    "    output = None\n",
    "    for output in app.stream(\n",
    "        {\"messages\": [HumanMessage(content=user)]}, config=config, stream_mode=\"updates\"\n",
    "    ):\n",
    "        last_message = next(iter(output.values()))[\"messages\"][-1]\n",
    "        last_message.pretty_print()\n",
    "\n",
    "    if output and \"prompt\" in output:\n",
    "        print(\"Done!\")"
   ]
  },
  {
   "cell_type": "code",
   "execution_count": null,
   "id": "6bc5afae",
   "metadata": {},
   "outputs": [],
   "source": []
  }
 ],
 "metadata": {
  "kernelspec": {
   "display_name": "base",
   "language": "python",
   "name": "python3"
  },
  "language_info": {
   "codemirror_mode": {
    "name": "ipython",
    "version": 3
   },
   "file_extension": ".py",
   "mimetype": "text/x-python",
   "name": "python",
   "nbconvert_exporter": "python",
   "pygments_lexer": "ipython3",
   "version": "3.12.7"
  }
 },
 "nbformat": 4,
 "nbformat_minor": 5
}
